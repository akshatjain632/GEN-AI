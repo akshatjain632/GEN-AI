{
 "cells": [
  {
   "cell_type": "markdown",
   "metadata": {},
   "source": [
    "# Transformers Assignment (Graded): Emotion Classification using Transformer Architecture"
   ]
  },
  {
   "cell_type": "markdown",
   "metadata": {
    "vscode": {
     "languageId": "plaintext"
    }
   },
   "source": [
    "Welcome to your programming assignment on Transformer Architecture! You will build a Deep Learning Model with Transformer Architecture to accurately predict the emotion expressed in a given text input."
   ]
  },
  {
   "cell_type": "markdown",
   "metadata": {},
   "source": [
    "## Problem Description"
   ]
  },
  {
   "cell_type": "markdown",
   "metadata": {},
   "source": [
    "Develop a text-based emotion classification model using a Transformer architecture. The model should accurately predict the emotion expressed in a given text input, choosing from a predefined set of emotion categories."
   ]
  },
  {
   "cell_type": "markdown",
   "metadata": {},
   "source": [
    "## Dataset Description"
   ]
  },
  {
   "cell_type": "markdown",
   "metadata": {},
   "source": [
    "The project utilizes the \"emotion\" dataset from the Hugging Face datasets library. This dataset contains text samples labeled with various emotions. The emotions are represented as numerical labels, which correspond to specific emotional states (e.g., joy, sadness, anger, etc.).\n",
    "\n",
    "Key characteristics of the dataset:\n",
    "\n",
    "- 20,000 examples (split configuration)\n",
    "- 6 emotion classes: sadness, joy, love, anger, fear, surprise\n",
    "- Text data: English Twitter messages\n",
    "- Labels: Numerical (0-5) corresponding to emotions\n",
    "\n",
    "The emotion dataset contains English Twitter messages labeled with six basic emotions. It has two configurations:\n",
    "\n",
    "1. Split configuration:\n",
    "   - 16,000 training examples\n",
    "   - 2,000 validation examples\n",
    "   - 2,000 test examples\n",
    "\n",
    "2. Unsplit configuration:\n",
    "   - 416,809 examples in a single train split\n",
    "\n",
    "Each data instance consists of:\n",
    "- \"text\": a string feature containing the Twitter message\n",
    "- \"label\": a numerical label (0-5) corresponding to the emotion\n",
    "\n",
    "For more information, refer to this link: [Emotion Dataset](https://huggingface.co/datasets/dair-ai/emotion)"
   ]
  },
  {
   "cell_type": "markdown",
   "metadata": {},
   "source": [
    "For the scope of this Assignment, we'll be using the Split configuration of the data."
   ]
  },
  {
   "cell_type": "markdown",
   "metadata": {},
   "source": [
    "## Assignment Tasks"
   ]
  },
  {
   "cell_type": "markdown",
   "metadata": {},
   "source": [
    "1. **Data Preprocessing**\n",
    "   - Load the emotion dataset using the Hugging Face datasets library\n",
    "   - Preprocess the text data (lowercase conversion, punctuation removal)\n",
    "   - Tokenize and pad the text sequences\n",
    "   - Handle class imbalance using oversampling techniques\n",
    "\n",
    "2. **Transformer Architecture Implementation**\n",
    "   - Implement key components of the Transformer architecture:\n",
    "     - Positional Encoding\n",
    "     - Scaled Dot-Product Attention\n",
    "     - Multi-Head Attention\n",
    "     - Transformer Block\n",
    "\n",
    "3. **Model Development**\n",
    "   - Create a Transformer-based model for emotion classification\n",
    "   - Implement the model using TensorFlow and Keras\n",
    "   - Configure model hyperparameters (number of layers, dimensions, etc.)\n",
    "\n",
    "4. **Model Training**\n",
    "   - Compile the model with appropriate loss function and optimizer\n",
    "   - Train the model on the preprocessed dataset\n",
    "   - Implement validation during training\n",
    "\n",
    "5. **Model Evaluation**\n",
    "   - Evaluate the trained model on the test set\n",
    "   - Calculate and report test accuracy\n",
    "\n",
    "6. **Emotion Prediction**\n",
    "   - Develop a function to predict emotions for new text inputs\n",
    "   - Demonstrate the use of the prediction function with a sample text\n",
    "\n",
    "7. **Analysis and Reporting**\n",
    "   - Analyze the model's performance and discuss results\n",
    "   - Suggest potential improvements or extensions to the project"
   ]
  },
  {
   "cell_type": "markdown",
   "metadata": {},
   "source": [
    "## Instructions"
   ]
  },
  {
   "cell_type": "markdown",
   "metadata": {},
   "source": [
    "- Only write code when you see any of the below prompts,\n",
    "\n",
    "    ```\n",
    "    # YOUR CODE GOES HERE\n",
    "    # YOUR CODE ENDS HERE\n",
    "    # TODO\n",
    "    ```\n",
    "\n",
    "- Do not modify any other section of the code unless tated otherwise in the comments."
   ]
  },
  {
   "cell_type": "markdown",
   "metadata": {},
   "source": [
    "# Code Section"
   ]
  },
  {
   "cell_type": "code",
   "execution_count": 1,
   "metadata": {},
   "outputs": [],
   "source": [
    "# import the necessary packages\n",
    "import tensorflow as tf\n",
    "import numpy as np\n",
    "import pandas as pd\n",
    "from sklearn.model_selection import train_test_split\n",
    "from tensorflow.keras.preprocessing.text import Tokenizer\n",
    "from tensorflow.keras.preprocessing.sequence import pad_sequences\n",
    "from imblearn.over_sampling import RandomOverSampler\n",
    "from helpers.methods import load_emotion_dataset, detect_and_set_device\n",
    "from tests.test_methods import test_preprocess_data, test_positional_encoding, test_multi_head_attention, test_transformer_block, test_transformer_model, test_train_model, test_evaluate_model"
   ]
  },
  {
   "cell_type": "code",
   "execution_count": 2,
   "metadata": {},
   "outputs": [
    {
     "data": {
      "application/vnd.jupyter.widget-view+json": {
       "model_id": "1d07d015b346490694579d70e54fae3b",
       "version_major": 2,
       "version_minor": 0
      },
      "text/plain": [
       "README.md:   0%|          | 0.00/9.05k [00:00<?, ?B/s]"
      ]
     },
     "metadata": {},
     "output_type": "display_data"
    },
    {
     "name": "stderr",
     "output_type": "stream",
     "text": [
      "c:\\Users\\arj64\\anaconda3\\Lib\\site-packages\\huggingface_hub\\file_download.py:140: UserWarning: `huggingface_hub` cache-system uses symlinks by default to efficiently store duplicated files but your machine does not support them in C:\\Users\\arj64\\.cache\\huggingface\\hub\\datasets--emotion. Caching files will still work but in a degraded version that might require more space on your disk. This warning can be disabled by setting the `HF_HUB_DISABLE_SYMLINKS_WARNING` environment variable. For more details, see https://huggingface.co/docs/huggingface_hub/how-to-cache#limitations.\n",
      "To support symlinks on Windows, you either need to activate Developer Mode or to run Python as an administrator. In order to activate developer mode, see this article: https://docs.microsoft.com/en-us/windows/apps/get-started/enable-your-device-for-development\n",
      "  warnings.warn(message)\n"
     ]
    },
    {
     "data": {
      "application/vnd.jupyter.widget-view+json": {
       "model_id": "04df6a2b38e949f39a9badbf821f9750",
       "version_major": 2,
       "version_minor": 0
      },
      "text/plain": [
       "train-00000-of-00001.parquet:   0%|          | 0.00/1.03M [00:00<?, ?B/s]"
      ]
     },
     "metadata": {},
     "output_type": "display_data"
    },
    {
     "data": {
      "application/vnd.jupyter.widget-view+json": {
       "model_id": "4bd25785aa0442958873ca5b4b82f02b",
       "version_major": 2,
       "version_minor": 0
      },
      "text/plain": [
       "validation-00000-of-00001.parquet:   0%|          | 0.00/127k [00:00<?, ?B/s]"
      ]
     },
     "metadata": {},
     "output_type": "display_data"
    },
    {
     "data": {
      "application/vnd.jupyter.widget-view+json": {
       "model_id": "006d7e852ab6411291b61de84e51093d",
       "version_major": 2,
       "version_minor": 0
      },
      "text/plain": [
       "test-00000-of-00001.parquet:   0%|          | 0.00/129k [00:00<?, ?B/s]"
      ]
     },
     "metadata": {},
     "output_type": "display_data"
    },
    {
     "data": {
      "application/vnd.jupyter.widget-view+json": {
       "model_id": "3c7c1c84c2094c81be3fdb851c73acea",
       "version_major": 2,
       "version_minor": 0
      },
      "text/plain": [
       "Generating train split:   0%|          | 0/16000 [00:00<?, ? examples/s]"
      ]
     },
     "metadata": {},
     "output_type": "display_data"
    },
    {
     "data": {
      "application/vnd.jupyter.widget-view+json": {
       "model_id": "852178c8685c4cac85b56afe423e15fe",
       "version_major": 2,
       "version_minor": 0
      },
      "text/plain": [
       "Generating validation split:   0%|          | 0/2000 [00:00<?, ? examples/s]"
      ]
     },
     "metadata": {},
     "output_type": "display_data"
    },
    {
     "data": {
      "application/vnd.jupyter.widget-view+json": {
       "model_id": "14890e94d7924b23a74362ce3d58ba3d",
       "version_major": 2,
       "version_minor": 0
      },
      "text/plain": [
       "Generating test split:   0%|          | 0/2000 [00:00<?, ? examples/s]"
      ]
     },
     "metadata": {},
     "output_type": "display_data"
    }
   ],
   "source": [
    "# Load the data into training and testing sets\n",
    "train_df, test_df = load_emotion_dataset()"
   ]
  },
  {
   "cell_type": "markdown",
   "metadata": {},
   "source": [
    "## Task: Let's get to know about our dataset"
   ]
  },
  {
   "cell_type": "markdown",
   "metadata": {},
   "source": [
    "### Shape of the dataset: Testing and Training"
   ]
  },
  {
   "cell_type": "code",
   "execution_count": 3,
   "metadata": {},
   "outputs": [
    {
     "name": "stdout",
     "output_type": "stream",
     "text": [
      "Train data shape: (16000, 2)\n",
      "Test data shape: (2000, 2)\n"
     ]
    }
   ],
   "source": [
    "# TODO: Display the shape of the data\n",
    "train_df_shape = train_df.shape\n",
    "test_df_shape = test_df.shape\n",
    "\n",
    "print(f\"Train data shape: {train_df_shape}\")\n",
    "print(f\"Test data shape: {test_df_shape}\")"
   ]
  },
  {
   "cell_type": "markdown",
   "metadata": {},
   "source": [
    "### Label Distribution in each class"
   ]
  },
  {
   "cell_type": "code",
   "execution_count": 4,
   "metadata": {},
   "outputs": [
    {
     "name": "stderr",
     "output_type": "stream",
     "text": [
      "c:\\Users\\arj64\\anaconda3\\Lib\\site-packages\\seaborn\\_oldcore.py:1765: FutureWarning: unique with argument that is not not a Series, Index, ExtensionArray, or np.ndarray is deprecated and will raise in a future version.\n",
      "  order = pd.unique(vector)\n"
     ]
    },
    {
     "data": {
      "image/png": "[encoded data removed]",
      "text/plain": [
       "<Figure size 2000x800 with 1 Axes>"
      ]
     },
     "metadata": {},
     "output_type": "display_data"
    }
   ],
   "source": [
    "from collections import Counter\n",
    "import seaborn as sns\n",
    "import matplotlib.pyplot as plt\n",
    "\n",
    "# TODO: Plot the class distribution of the training data\n",
    "class_counts_before = Counter(train_df['label'])\n",
    "\n",
    "# Create a figure \n",
    "fig, ax1 = plt.subplots(1, 1, figsize=(20, 8))\n",
    "\n",
    "# Plot class distribution before oversampling\n",
    "sns.barplot(x=list(class_counts_before.keys()), y=list(class_counts_before.values()), ax=ax1)\n",
    "ax1.set_title('Class Distribution Before Oversampling')\n",
    "ax1.set_xlabel('Emotion')\n",
    "ax1.set_ylabel('Count')\n",
    "ax1.tick_params(axis='x', rotation=45)"
   ]
  },
  {
   "cell_type": "markdown",
   "metadata": {},
   "source": [
    "**write your interpretation of the visualization here:**\n",
    "\n",
    "\n",
    "\n",
    "\n"
   ]
  },
  {
   "cell_type": "markdown",
   "metadata": {},
   "source": [
    "## Task: Preprocessing the dataset"
   ]
  },
  {
   "cell_type": "markdown",
   "metadata": {},
   "source": [
    "**Task Hints:**\n",
    "\n",
    "Complete the preprocess_data method.\n",
    "\n",
    "- Implement the preprocess_text function to convert text to lowercase and remove non-alphanumeric characters.\n",
    "\n",
    "- Use the Tokenizer class from Keras to tokenize the text data. Set the vocabulary size and out-of-vocabulary token.\n",
    "\n",
    "- Apply padding to the tokenized sequences using pad_sequences to ensure uniform length. Set the maximum sequence length.\n",
    "\n",
    "- Convert the labels (y_train and y_test) to numpy arrays for compatibility with the model.\n",
    "\n",
    "- Use RandomOverSampler from imbalanced-learn to handle class imbalance in the training data.\n",
    "\n",
    "- Extract unique emotion labels from the training data and calculate the number of classes.\n",
    "\n",
    "- Ensure all preprocessed data and metadata (X_train, y_train, X_test, y_test, tokenizer, emotion_labels, num_classes) are returned by the function."
   ]
  },
  {
   "cell_type": "code",
   "execution_count": 5,
   "metadata": {},
   "outputs": [],
   "source": [
    "import re\n",
    "def preprocess_text(text_series):\n",
    "    # TODO: Preprocess text data by converting to lowercase and removing special characters.\n",
    "    # The function takes a pandas Series containing text data and performs the following:\n",
    "    # 1. Converts all text to lowercase\n",
    "    # 2. Removes all non-alphanumeric characters except spaces using regex\n",
    "    text_series = text_series.str.lower()\n",
    "    text_series = text_series.apply(lambda x: re.sub(r'[^a-zA-Z0-9\\s]', '', x))\n",
    "    return text_series\n",
    "\n",
    "def preprocess_data(train_data, test_data, max_vocab_size=10000, max_seq_length=50):\n",
    "    # TODO: Preprocess text\n",
    "    train_data['text'] = preprocess_text(train_data['text'])\n",
    "    test_data['text'] = preprocess_text(test_data['text'])\n",
    "    # TODO: Tokenize the text data\n",
    "    tokenizer = Tokenizer(num_words=max_vocab_size, oov_token='<OOV>')\n",
    "    # TODO: Fit the tokenizer on the training data\n",
    "    tokenizer.fit_on_texts(train_data['text'])\n",
    "    # TODO: Convert text data to sequences and pad sequences\n",
    "    X_train = tokenizer.texts_to_sequences(train_data['text'])\n",
    "    X_test = tokenizer.texts_to_sequences(test_data['text'])\n",
    "    X_train = pad_sequences(X_train, maxlen=max_seq_length, padding='post', truncating='post')\n",
    "    X_test = pad_sequences(X_test, maxlen=max_seq_length, padding='post', truncating='post')\n",
    "    # TODO: Get the labels\n",
    "    y_train = train_data['label'].values\n",
    "    y_test = test_data['label'].values\n",
    "    # TODO: Perform oversampling on the training data\n",
    "    oversampler = RandomOverSampler(random_state=42)\n",
    "    # TODO: Resample the training data\n",
    "    X_train_resampled, y_train_resampled = oversampler.fit_resample(X_train, y_train)\n",
    "    # TODO: Get the emotion labels and number of classes\n",
    "    emotion_labels = np.unique(y_train)\n",
    "    num_classes =len(emotion_labels)\n",
    "    \n",
    "    \n",
    "    \n",
    "    #---------------- Do not change the code below ----------------#\n",
    "    # Run the test\n",
    "    test_preprocess_data(X_train, X_test, y_train, y_test, tokenizer, emotion_labels, num_classes)\n",
    "    return X_train_resampled, y_train_resampled, X_test, y_test, tokenizer, emotion_labels, num_classes"
   ]
  },
  {
   "cell_type": "markdown",
   "metadata": {},
   "source": [
    "## Model Building"
   ]
  },
  {
   "cell_type": "markdown",
   "metadata": {},
   "source": [
    "### Positional Encoding Implementation"
   ]
  },
  {
   "cell_type": "markdown",
   "metadata": {},
   "source": [
    "**Task Hints:**\n",
    "\n",
    "Implement the PositionalEncoding class:\n",
    "\n",
    "- In `__init__`, initialize the positional encoding matrix using `positional_encoding`.\n",
    "\n",
    "- Implement `get_angles` to calculate the angles for positional encoding using the provided formula.\n",
    "\n",
    "- In `positional_encoding`:\n",
    "  - Generate angle radians using `get_angles`.\n",
    "  - Apply sine to even indices and cosine to odd indices of the angle radians.\n",
    "  - Concatenate sine and cosine values to create the positional encoding.\n",
    "  - Add an extra dimension at the start and cast to float32.\n",
    "\n",
    "- In `call`, add the positional encoding to the input tensor. Ensure the encoding is sliced to match the input sequence length.\n",
    "\n",
    "- Use TensorFlow operations (tf.range, tf.newaxis, tf.concat, etc.) for efficient computation.\n",
    "\n",
    "- Ensure the output shape matches the input shape with the added positional information."
   ]
  },
  {
   "cell_type": "code",
   "execution_count": 6,
   "metadata": {},
   "outputs": [
    {
     "data": {
      "text/plain": [
       "'All positional encoding tests passed.'"
      ]
     },
     "execution_count": 6,
     "metadata": {},
     "output_type": "execute_result"
    }
   ],
   "source": [
    "class PositionalEncoding(tf.keras.layers.Layer):\n",
    "    def __init__(self, position, d_model):\n",
    "        super(PositionalEncoding, self).__init__()\n",
    "        self.pos_encoding = self.positional_encoding(position, d_model)\n",
    "\n",
    "    def get_angles(self, position, i, d_model):\n",
    "        # TODO: Compute the angles for the positional encoding\n",
    "        angles =1 / tf.pow(10000.0, (2 * (i // 2)) / tf.cast(d_model, tf.float32))\n",
    "        # Return the angles * position\n",
    "        return position * angles\n",
    "\n",
    "    def positional_encoding(self, position, d_model):\n",
    "        # TODO: Compute the angles for the positional encoding\n",
    "        position = tf.range(position, dtype=tf.float32)[:, tf.newaxis]\n",
    "        i = tf.range(d_model, dtype=tf.float32)[tf.newaxis, :]\n",
    "        angle_rads = self.get_angles(\n",
    "            # YOUR CODE BEGINS HERE\n",
    "            # pass the position, i and d_model\n",
    "            position,\n",
    "            i,\n",
    "            d_model\n",
    "            # YOUR CODE ENDS HERE\n",
    "        )\n",
    "        \n",
    "        # TODO: Apply sin to even indices in the array\n",
    "        sin_values = tf.sin(angle_rads[:, 0::2])  # Even indices\n",
    "        # TODO: Apply cos to odd indices in the array\n",
    "        cos_values = tf.cos(angle_rads[:, 1::2])  # Odd indices\n",
    "        # TODO: Concatenate the sines and cosines\n",
    "        pos_encoding = tf.concat([sin_values, cos_values], axis=-1)\n",
    "        # TODO: Add batch dimension\n",
    "        pos_encoding = pos_encoding[tf.newaxis, ...]\n",
    "        # Return the positional encoding\n",
    "        return tf.cast(pos_encoding, tf.float32)\n",
    "\n",
    "    def call(self, inputs):\n",
    "        return inputs + self.pos_encoding[:, :tf.shape(inputs)[1], :]\n",
    "    \n",
    "#---------------- Do not change the code below ----------------#\n",
    "test_positional_encoding(PositionalEncoding(100, 512))\n",
    "    "
   ]
  },
  {
   "cell_type": "markdown",
   "metadata": {},
   "source": [
    "### Scaled Dot Product Implementation"
   ]
  },
  {
   "cell_type": "markdown",
   "metadata": {},
   "source": [
    "**Task Hints:**\n",
    "\n",
    "Implement the scaled_dot_product_attention function:\n",
    "\n",
    "- Use tf.matmul for matrix multiplication between query and key (with transpose_b=True).\n",
    "\n",
    "- Calculate the depth as the last dimension of the key tensor, casting to float32.\n",
    "\n",
    "- Scale the dot product by dividing by the square root of the depth.\n",
    "\n",
    "- If a mask is provided, add a large negative value (-1e9) to the masked positions in the logits.\n",
    "\n",
    "- Apply softmax to the logits to obtain attention weights.\n",
    "\n",
    "- Compute the final output by matrix multiplication of attention weights and values.\n",
    "\n",
    "- Ensure the function handles batched inputs correctly.\n",
    "\n",
    "- Consider adding an optional parameter for temperature in the softmax calculation for potential experimentation."
   ]
  },
  {
   "cell_type": "code",
   "execution_count": 7,
   "metadata": {},
   "outputs": [],
   "source": [
    "def scaled_dot_product_attention(query, key, value, mask):\n",
    "    # TODO: Compute the dot product of the query and key\n",
    "    matmul_qk = tf.matmul(query, key, transpose_b=True)\n",
    "    # TODO: Get the depth of the key\n",
    "    depth = tf.cast(tf.shape(key)[-1], tf.float32)\n",
    "    # TODO: Scale the dot product\n",
    "    scaled_attention_logits = matmul_qk / tf.math.sqrt(depth)\n",
    "    # Add the mask to zero out padding tokens\n",
    "    if mask is not None:\n",
    "        scaled_attention_logits += (mask * -1e9)\n",
    "    # TODO: Compute the attention weights\n",
    "    attention_weights = tf.nn.softmax(scaled_attention_logits, axis=-1)\n",
    "    # TODO: Compute the output which is the weighted sum of the value\n",
    "    output = tf.matmul(attention_weights, value)\n",
    "    # Return the output\n",
    "    return output"
   ]
  },
  {
   "cell_type": "markdown",
   "metadata": {},
   "source": [
    "### Multi-Head Attention Implementation"
   ]
  },
  {
   "cell_type": "markdown",
   "metadata": {},
   "source": [
    "**Task Hints:**\n",
    "\n",
    "Implement the MultiHeadAttention class:\n",
    "\n",
    "- In `__init__`:\n",
    "  - Ensure that `d_model` is divisible by `num_heads`.\n",
    "  - Calculate `depth` as `d_model // num_heads`.\n",
    "  - Initialize Dense layers for query, key, value projections (wq, wk, wv) and output projection (dense).\n",
    "\n",
    "- Implement `split_heads`:\n",
    "  - Reshape the input tensor to separate the last dimension into `num_heads` and `depth`.\n",
    "  - Transpose the resulting tensor to bring the `num_heads` dimension to the correct position.\n",
    "\n",
    "- In `call`:\n",
    "  - Apply the query, key, and value projections using the respective Dense layers.\n",
    "  - Use `split_heads` to reshape q, k, and v for multi-head processing.\n",
    "  - Call `scaled_dot_product_attention` with the reshaped q, k, v, and the provided mask.\n",
    "  - Transpose and reshape the attention output to combine the heads.\n",
    "  - Apply the output projection using the `dense` layer.\n",
    "\n",
    "- Ensure the method handles batched inputs correctly.\n",
    "\n",
    "- Consider adding a dropout layer after the output projection for regularization.\n",
    "\n",
    "- You may want to add an optional `training` parameter to `call` for potential dropout usage.\n",
    "\n",
    "- Ensure the output shape is correct: (batch_size, seq_len, d_model)."
   ]
  },
  {
   "cell_type": "code",
   "execution_count": 8,
   "metadata": {},
   "outputs": [
    {
     "name": "stdout",
     "output_type": "stream",
     "text": [
      "All test cases passed of Multi-head attention block!\n"
     ]
    }
   ],
   "source": [
    "class MultiHeadAttention(tf.keras.layers.Layer):\n",
    "    def __init__(self, d_model, num_heads):\n",
    "        super(MultiHeadAttention, self).__init__()\n",
    "        self.num_heads = num_heads\n",
    "        self.d_model = d_model\n",
    "        \n",
    "        # Ensure d_model is divisible by the number of heads\n",
    "        assert d_model % self.num_heads == 0\n",
    "        \n",
    "        # TODO: Depth of the model\n",
    "        self.depth = d_model // self.num_heads\n",
    "        \n",
    "        # TODO: Dense layers for query, key, and value\n",
    "        self.wq = tf.keras.layers.Dense(d_model)\n",
    "        self.wk = tf.keras.layers.Dense(d_model)\n",
    "        self.wv = tf.keras.layers.Dense(d_model)\n",
    "        \n",
    "        # Dense layer for the output\n",
    "        self.dense = tf.keras.layers.Dense(d_model)\n",
    "\n",
    "    def split_heads(self, x, batch_size):\n",
    "        # TODO: Split the last dimension into (num_heads, depth)\n",
    "        x = tf.reshape(x, (batch_size, -1, self.num_heads, self.depth))\n",
    "        # Return the transposed result\n",
    "        return tf.transpose(x, perm=[0, 2, 1, 3])\n",
    "\n",
    "    def call(self, v, k, q, mask):\n",
    "        # TODO: Get the batch size\n",
    "        batch_size = tf.shape(q)[0]\n",
    "        # TODO: Pass the query, key, and value through the dense layers\n",
    "        q = self.wq(q)\n",
    "        k = self.wk(k)\n",
    "        v = self.wv(v)\n",
    "        # TODO: Split the heads for the query, key, and value\n",
    "        q = self.split_heads(q, batch_size)\n",
    "        k = self.split_heads(k, batch_size)\n",
    "        v = self.split_heads(v, batch_size)\n",
    "        \n",
    "        # TODO: Compute the scaled dot product attention\n",
    "        scaled_attention= scaled_dot_product_attention(q, k, v, mask)\n",
    "        \n",
    "        # TODO: Transpose the result to (batch_size, seq_len_q, num_heads, depth)\n",
    "        scaled_attention = tf.transpose(scaled_attention, perm=[0, 2, 1, 3])\n",
    "        \n",
    "        # TODO: Concatenate the heads to get the concatenated attention result\n",
    "        concat_attention = tf.reshape(scaled_attention,(batch_size, -1, self.d_model))\n",
    "        \n",
    "        # TODO: Pass the con through the dense layer to get the final output\n",
    "        output = self.dense(concat_attention)\n",
    "        return output\n",
    "    \n",
    "    \n",
    "#---------------- Do not change the code below ----------------#\n",
    "mha = MultiHeadAttention(d_model=128, num_heads=8)\n",
    "print(test_multi_head_attention(mha))"
   ]
  },
  {
   "cell_type": "markdown",
   "metadata": {},
   "source": [
    "### Transformer Block Implementation"
   ]
  },
  {
   "cell_type": "markdown",
   "metadata": {},
   "source": [
    "**Task Hints:**\n",
    "\n",
    "Implement the TransformerBlock class:\n",
    "\n",
    "- In `__init__`:\n",
    "  - Initialize the MultiHeadAttention layer with `d_model` and `num_heads`.\n",
    "  - Create a feed-forward network (ffn) using a Sequential model with two Dense layers:\n",
    "    - First layer: `dff` units with ReLU activation\n",
    "    - Second layer: `d_model` units with no activation\n",
    "  - Initialize two LayerNormalization layers with a small epsilon (e.g., 1e-6).\n",
    "  - Create two Dropout layers with the specified rate.\n",
    "\n",
    "- In `call`:\n",
    "  - Apply multi-head attention:\n",
    "    - Pass the input `x` as query, key, and value to the `mha` layer.\n",
    "    - Apply dropout to the attention output.\n",
    "    - Add the input `x` to the attention output (residual connection).\n",
    "    - Apply layer normalization.\n",
    "  \n",
    "  - Apply the feed-forward network:\n",
    "    - Pass the output from the previous step through the `ffn`.\n",
    "    - Apply dropout to the ffn output.\n",
    "    - Add the input from the previous step (residual connection).\n",
    "    - Apply layer normalization.\n",
    "\n",
    "  - Ensure the `training` parameter is used correctly for dropout layers.\n",
    "  \n",
    "  - Use the `mask` parameter in the multi-head attention call if provided.\n",
    "\n",
    "- Consider adding additional parameters or methods for more flexibility, such as:\n",
    "  - A parameter to control whether to use layer normalization before or after each sub-layer (pre-norm vs. post-norm).\n",
    "  - A method to get attention weights for visualization or analysis.\n",
    "\n",
    "- Ensure the output shape matches the input shape: (batch_size, seq_len, d_model)."
   ]
  },
  {
   "cell_type": "code",
   "execution_count": 9,
   "metadata": {},
   "outputs": [
    {
     "name": "stdout",
     "output_type": "stream",
     "text": [
      "Test case 1 (output shape) passed\n",
      "Test case 2 (output difference) passed\n",
      "Test case 3 (trainable variables) passed\n",
      "Test case 4 (dropout effect) passed\n",
      "Test case 5 (consistency in test mode) passed\n",
      "Test case 8 (variable sequence length) passed\n",
      "All transformer block test cases passed!\n"
     ]
    }
   ],
   "source": [
    "class TransformerBlock(tf.keras.layers.Layer):\n",
    "    def __init__(self, d_model, num_heads, dff, rate=0.1):\n",
    "        super(TransformerBlock, self).__init__()\n",
    "\n",
    "        self.mha = MultiHeadAttention(d_model, num_heads)\n",
    "        self.ffn = tf.keras.Sequential([\n",
    "            # TODO: Define First dense layer: dff units, relu activation\n",
    "            tf.keras.layers.Dense(dff, activation='relu'),\n",
    "            # TODO: Define Second dense layer: d_model units\n",
    "            tf.keras.layers.Dense(d_model)\n",
    "        ])\n",
    "        \n",
    "        # TODO: Define Layer Normalization layers: epsilon=1e-6\n",
    "        self.layernorm1 = tf.keras.layers.LayerNormalization(epsilon=1e-6)\n",
    "        self.layernorm2 =tf.keras.layers.LayerNormalization(epsilon=1e-6)\n",
    "        \n",
    "        # TODO: Define Dropout layers: rate\n",
    "        self.dropout1 = tf.keras.layers.Dropout(rate)\n",
    "        self.dropout2 = tf.keras.layers.Dropout(rate)\n",
    "\n",
    "    def call(self, x, training, mask):\n",
    "        # TODO: Call the MultiHeadAttention layer with x, x, x, mask\n",
    "        attn_output = self.mha(x,x,x,mask)\n",
    "        # TODO: Apply dropout on the output and add it to the input\n",
    "        attn_output = self.dropout1(attn_output,training=training)\n",
    "        # TODO: Apply layer normalization and add the output to the input\n",
    "        out1 = self.layernorm1(x + attn_output)\n",
    "        \n",
    "        # TODO: Call the feed forward network with out1\n",
    "        ffn_output = self.ffn(out1)\n",
    "        \n",
    "        # TODO: Apply dropout on the output and add it to the input\n",
    "        ffn_output = self.dropout2(ffn_output, training=training)\n",
    "        \n",
    "        # TODO: Apply layer normalization and add the output to the input\n",
    "        out2 = self.layernorm2(out1 + ffn_output)\n",
    "\n",
    "        return out2\n",
    "\n",
    "\n",
    "#---------------- Do not change the code below ----------------#\n",
    "transformer_block = TransformerBlock(d_model=128, num_heads=8, dff=512, rate=0.1)\n",
    "test_transformer_block(transformer_block)"
   ]
  },
  {
   "cell_type": "markdown",
   "metadata": {},
   "source": [
    "## Model Architecture Definition"
   ]
  },
  {
   "cell_type": "markdown",
   "metadata": {},
   "source": [
    "**Task Hints:**\n",
    "\n",
    "Implement the TransformerModel class:\n",
    "\n",
    "- In `__init__`:\n",
    "  - Initialize an Embedding layer with `input_vocab_size` and `d_model`.\n",
    "  - Create a PositionalEncoding layer with `maximum_position_encoding` and `d_model`.\n",
    "  - Create a list of `TransformerBlock` instances based on `num_layers`.\n",
    "  - Initialize a Dropout layer with the specified `rate`.\n",
    "  - Create the final Dense layer with `num_classes` units and softmax activation.\n",
    "\n",
    "- In `call`:\n",
    "  - Apply the embedding layer to the input `x`.\n",
    "  - Scale the embeddings by multiplying with sqrt(d_model).\n",
    "  - Add positional encoding to the scaled embeddings.\n",
    "  - Apply dropout to the result.\n",
    "  - Pass the output through each transformer block sequentially.\n",
    "  - Apply global average pooling to the output of the last transformer block.\n",
    "  - Pass the pooled output through the final dense layer.\n",
    "\n",
    "- Additional considerations:\n",
    "  - Implement input masking if needed for variable-length sequences.\n",
    "  - Add a parameter to control whether positional encoding is trainable.\n",
    "  - Consider adding residual connections or layer normalization after the embedding layer.\n",
    "  - Implement attention visualization functionality if desired.\n",
    "\n",
    "- Ensure the model can handle batched inputs correctly.\n",
    "\n",
    "- The output shape should be (batch_size, num_classes), representing the probability distribution over emotion classes.\n",
    "\n",
    "- Consider adding methods for:\n",
    "  - Getting intermediate representations for analysis.\n",
    "  - Custom training loops if needed.\n",
    "  - Model summary or configuration printing."
   ]
  },
  {
   "cell_type": "code",
   "execution_count": 10,
   "metadata": {},
   "outputs": [
    {
     "name": "stdout",
     "output_type": "stream",
     "text": [
      "Test case 1 (output shape) passed\n",
      "Test case 2 (valid probability distribution) passed\n",
      "Test case 3 (trainable variables) passed\n",
      "Test case 4 (dropout effect) passed\n",
      "Test case 5 (consistency in test mode) passed\n",
      "Test case 6 (embedding layer) passed\n",
      "Test case 7 (positional encoding) passed\n",
      "Test case 8 (variable sequence length) passed\n",
      "Test case 9 (number of transformer blocks) passed\n",
      "Test case 10 (final layer units) passed\n",
      "All transformer model test cases passed!\n"
     ]
    }
   ],
   "source": [
    "class TransformerModel(tf.keras.Model):\n",
    "    def __init__(self, num_layers, d_model, num_heads, dff, input_vocab_size, maximum_position_encoding, num_classes, rate=0.1):\n",
    "        super(TransformerModel, self).__init__()\n",
    "\n",
    "        self.d_model = d_model\n",
    "        self.num_layers = num_layers\n",
    "        self.input_vocab_size = input_vocab_size\n",
    "        self.num_classes = num_classes\n",
    "        \n",
    "        # TODO: Define the embedding layer with input_vocab_size and d_model\n",
    "        self.embedding = tf.keras.layers.Embedding(input_vocab_size, d_model)\n",
    "        \n",
    "        # TODO: Define the positional encoding layer with maximum_position_encoding and d_model\n",
    "        self.pos_encoding = PositionalEncoding(maximum_position_encoding, d_model)\n",
    "        \n",
    "        # TODO: Define the transformer blocks with num_layers, d_model, num_heads, dff, rate\n",
    "        self.transformer_blocks = [TransformerBlock(d_model, num_heads, dff, rate) for _ in range(num_layers)]\n",
    "        \n",
    "        # TODO: Define the dropout layer with rate \n",
    "        self.dropout = tf.keras.layers.Dropout(rate)\n",
    "        \n",
    "        # TODO: Define the final dense layer with num_classes and softmax activation\n",
    "        self.final_layer = tf.keras.layers.Dense(num_classes, activation='softmax')\n",
    "        \n",
    "        \n",
    "    def call(self, x, training=False):\n",
    "        # TODO: Get the sequence length\n",
    "        seq_len = tf.shape(x)[1]\n",
    "        \n",
    "        # TODO: Pass the input through the embedding layer\n",
    "        x = self.embedding(x)\n",
    "        \n",
    "        # TODO: Scale the embedding by sqrt(d_model)\n",
    "        x *= tf.math.sqrt(tf.cast(self.d_model, tf.float32))\n",
    "        \n",
    "        # TODO: Add the positional encoding to the embedding\n",
    "        x = self.pos_encoding(x)\n",
    "        \n",
    "        # TODO: Apply dropout to the embedding\n",
    "        x = self.dropout(x, training=training)\n",
    "        \n",
    "        # TODO: Pass the embedding through the transformer blocks \n",
    "        for transformer_block in self.transformer_blocks:\n",
    "            x = transformer_block(x, training=training, mask=None)\n",
    "            \n",
    "        # TODO: Apply global average pooling to the output\n",
    "        x = tf.reduce_mean(x, axis=1)\n",
    "        \n",
    "        # TODO: Pass the output through the final dense layer\n",
    "        output = self.final_layer(x)\n",
    "\n",
    "        return output\n",
    "    \n",
    "# Test parameters\n",
    "transformer_model = TransformerModel(num_layers=4, d_model=128, num_heads=8, dff=512, input_vocab_size=10000, maximum_position_encoding=10000, num_classes=6, rate=0.1)\n",
    "test_transformer_model(transformer_model)"
   ]
  },
  {
   "cell_type": "markdown",
   "metadata": {},
   "source": [
    "## Task: Model Training"
   ]
  },
  {
   "cell_type": "markdown",
   "metadata": {},
   "source": [
    "**Task Hints:**\n",
    "\n",
    "Implement the train_transformer_model function:\n",
    "\n",
    "- Define the function with parameters for training data, model architecture, and training configuration.\n",
    "\n",
    "- Calculate the input vocabulary size based on the tokenizer's word index.\n",
    "\n",
    "- Create an instance of the TransformerModel using the provided architecture parameters.\n",
    "\n",
    "- Compile the model:\n",
    "  - Use the Adam optimizer.\n",
    "  - Set the loss function to sparse categorical crossentropy.\n",
    "  - Include accuracy as a metric.\n",
    "\n",
    "- Train the model using the fit method:\n",
    "  - Pass the training data (X_train and y_train).\n",
    "  - Set the batch size, number of epochs, and validation split.\n",
    "  - Capture the training history.\n",
    "\n",
    "- Consider adding optional parameters for:\n",
    "  - Learning rate for the optimizer.\n",
    "  - Custom callbacks (e.g., early stopping, model checkpointing).\n",
    "  - Class weights for imbalanced datasets.\n",
    "\n",
    "- Implement error handling for invalid input parameters.\n",
    "\n",
    "- Add logging or print statements to track training progress.\n",
    "\n",
    "- Return both the trained model and the training history for further analysis.\n",
    "\n",
    "- Ensure the function is flexible enough to handle different dataset sizes and model configurations.\n",
    "\n",
    "- Consider adding a parameter for specifying the validation data explicitly, instead of using validation_split.\n",
    "\n",
    "- Optionally, add functionality to save the model after training."
   ]
  },
  {
   "cell_type": "code",
   "execution_count": 11,
   "metadata": {},
   "outputs": [],
   "source": [
    "from tensorflow.keras.optimizers import Adam\n",
    "from tensorflow.keras.losses import SparseCategoricalCrossentropy\n",
    "def train_transformer_model(X_train, y_train, tokenizer, num_classes, MAX_SEQ_LENGTH, num_layers=4, d_model=128, num_heads=8, dff=512, epochs=10, batch_size=32, validation_split=0.1):\n",
    "    device = detect_and_set_device()\n",
    "    \n",
    "    # TODO: Get the input vocab size from the tokenizer\n",
    "    input_vocab_size = len(tokenizer.word_index) + 1\n",
    "    \n",
    "    # Create the transformer model with the specified parameters\n",
    "    model = TransformerModel(\n",
    "        num_layers=num_layers,\n",
    "        d_model=d_model,\n",
    "        num_heads=num_heads,\n",
    "        dff=dff,\n",
    "        input_vocab_size=input_vocab_size,\n",
    "        maximum_position_encoding=MAX_SEQ_LENGTH,\n",
    "        num_classes=num_classes,\n",
    "        rate=0.1\n",
    "    )\n",
    "    # TODO: Compile the model with an Adam optimizer and sparse categorical crossentropy loss and accuracy metric\n",
    "    model.compile(optimizer=Adam(learning_rate=1e-4),loss=SparseCategoricalCrossentropy(),metrics=['accuracy']\n",
    "    )\n",
    "    \n",
    "    # Train the model on the training data with the specified batch size and number of epochs \n",
    "    with tf.device('/' + device + ':0'):\n",
    "        history = model.fit(\n",
    "            # YOUR CODE BEGINS HERE\n",
    "            # pass the training data and labels\n",
    "            X_train,y_train,\n",
    "            batch_size=batch_size,\n",
    "            epochs=epochs,\n",
    "            validation_split=validation_split,\n",
    "            verbose=1\n",
    "            # YOUR CODE ENDS HERE\n",
    "        )\n",
    "        \n",
    "    #---------------- Do not change the code below ----------------#\n",
    "    test_train_model(history)\n",
    "    \n",
    "    return model, history"
   ]
  },
  {
   "cell_type": "markdown",
   "metadata": {},
   "source": [
    "## Task: Model Evaluation"
   ]
  },
  {
   "cell_type": "code",
   "execution_count": 12,
   "metadata": {},
   "outputs": [],
   "source": [
    "def evaluate_model(model, X_test, y_test):\n",
    "    # TODO: Evaluate the model on the test data and get the loss and accuracy\n",
    "    test_loss, test_accuracy = model.evaluate(X_test, y_test, verbose=0)\n",
    "    print(f\"Test accuracy: {test_accuracy:.4f}\")\n",
    "    \n",
    "    \n",
    "    #---------------- Do not change the code below ----------------#\n",
    "    test_evaluate_model(test_loss, test_accuracy)\n",
    "    return test_loss, test_accuracy"
   ]
  },
  {
   "cell_type": "markdown",
   "metadata": {},
   "source": [
    "## Driver Code to run the built pipeline"
   ]
  },
  {
   "cell_type": "code",
   "execution_count": 13,
   "metadata": {},
   "outputs": [],
   "source": [
    "#---------------- Do not change the code below ----------------#\n",
    "def emotion_classification_pipeline(train_df, test_df):\n",
    "    max_vocab_size=10000\n",
    "    max_seq_length=50\n",
    "    num_layers=4\n",
    "    d_model=128\n",
    "    num_heads=8\n",
    "    dff=512\n",
    "    epochs=10\n",
    "    batch_size=32\n",
    "    validation_split=0.1\n",
    "\n",
    "    # Preprocess data\n",
    "    X_train, y_train, X_test, y_test, tokenizer, emotion_labels, num_classes = preprocess_data(\n",
    "        train_df, test_df, max_vocab_size, max_seq_length\n",
    "    )\n",
    "\n",
    "    # Train model\n",
    "    model, history = train_transformer_model(\n",
    "        X_train, y_train, tokenizer, num_classes, max_seq_length,\n",
    "        num_layers, d_model, num_heads, dff, epochs, batch_size, validation_split\n",
    "    )\n",
    "\n",
    "    # Evaluate model\n",
    "    test_loss, test_accuracy = evaluate_model(model, X_test, y_test)\n",
    "\n",
    "    return model, history, test_loss, test_accuracy, emotion_labels, tokenizer"
   ]
  },
  {
   "cell_type": "code",
   "execution_count": 14,
   "metadata": {},
   "outputs": [
    {
     "name": "stdout",
     "output_type": "stream",
     "text": [
      "preprocess_data test passed.\n",
      "GPU is not available. Using CPU.\n",
      "Epoch 1/10\n",
      "\u001b[1m905/905\u001b[0m \u001b[32m━━━━━━━━━━━━━━━━━━━━\u001b[0m\u001b[37m\u001b[0m \u001b[1m202s\u001b[0m 196ms/step - accuracy: 0.2726 - loss: 1.6695 - val_accuracy: 0.8511 - val_loss: 0.2995\n",
      "Epoch 2/10\n",
      "\u001b[1m905/905\u001b[0m \u001b[32m━━━━━━━━━━━━━━━━━━━━\u001b[0m\u001b[37m\u001b[0m \u001b[1m172s\u001b[0m 190ms/step - accuracy: 0.8927 - loss: 0.3127 - val_accuracy: 0.9677 - val_loss: 0.1189\n",
      "Epoch 3/10\n",
      "\u001b[1m905/905\u001b[0m \u001b[32m━━━━━━━━━━━━━━━━━━━━\u001b[0m\u001b[37m\u001b[0m \u001b[1m142s\u001b[0m 157ms/step - accuracy: 0.9352 - loss: 0.1772 - val_accuracy: 0.9767 - val_loss: 0.0741\n",
      "Epoch 4/10\n",
      "\u001b[1m905/905\u001b[0m \u001b[32m━━━━━━━━━━━━━━━━━━━━\u001b[0m\u001b[37m\u001b[0m \u001b[1m140s\u001b[0m 155ms/step - accuracy: 0.9543 - loss: 0.1314 - val_accuracy: 0.9798 - val_loss: 0.0393\n",
      "Epoch 5/10\n",
      "\u001b[1m905/905\u001b[0m \u001b[32m━━━━━━━━━━━━━━━━━━━━\u001b[0m\u001b[37m\u001b[0m \u001b[1m150s\u001b[0m 165ms/step - accuracy: 0.9649 - loss: 0.0907 - val_accuracy: 0.9767 - val_loss: 0.0558\n",
      "Epoch 6/10\n",
      "\u001b[1m905/905\u001b[0m \u001b[32m━━━━━━━━━━━━━━━━━━━━\u001b[0m\u001b[37m\u001b[0m \u001b[1m206s\u001b[0m 227ms/step - accuracy: 0.9765 - loss: 0.0687 - val_accuracy: 0.9947 - val_loss: 0.0249\n",
      "Epoch 7/10\n",
      "\u001b[1m905/905\u001b[0m \u001b[32m━━━━━━━━━━━━━━━━━━━━\u001b[0m\u001b[37m\u001b[0m \u001b[1m135s\u001b[0m 150ms/step - accuracy: 0.9803 - loss: 0.0549 - val_accuracy: 0.9702 - val_loss: 0.0611\n",
      "Epoch 8/10\n",
      "\u001b[1m905/905\u001b[0m \u001b[32m━━━━━━━━━━━━━━━━━━━━\u001b[0m\u001b[37m\u001b[0m \u001b[1m137s\u001b[0m 151ms/step - accuracy: 0.9839 - loss: 0.0438 - val_accuracy: 0.9944 - val_loss: 0.0144\n",
      "Epoch 9/10\n",
      "\u001b[1m905/905\u001b[0m \u001b[32m━━━━━━━━━━━━━━━━━━━━\u001b[0m\u001b[37m\u001b[0m \u001b[1m211s\u001b[0m 233ms/step - accuracy: 0.9854 - loss: 0.0417 - val_accuracy: 0.9972 - val_loss: 0.0079\n",
      "Epoch 10/10\n",
      "\u001b[1m905/905\u001b[0m \u001b[32m━━━━━━━━━━━━━━━━━━━━\u001b[0m\u001b[37m\u001b[0m \u001b[1m337s\u001b[0m 315ms/step - accuracy: 0.9885 - loss: 0.0323 - val_accuracy: 0.9879 - val_loss: 0.0251\n",
      "Test accuracy: 0.8900\n",
      "Test accuracy: 0.8900\n",
      "Test loss: 0.4711\n",
      "Emotion labels: [0 1 2 3 4 5]\n",
      "Tokenizer: <keras.src.legacy.preprocessing.text.Tokenizer object at 0x000002039DA25B50>\n"
     ]
    },
    {
     "data": {
      "text/html": [
       "<pre style=\"white-space:pre;overflow-x:auto;line-height:normal;font-family:Menlo,'DejaVu Sans Mono',consolas,'Courier New',monospace\"><span style=\"font-weight: bold\">Model: \"transformer_model_1\"</span>\n",
       "</pre>\n"
      ],
      "text/plain": [
       "\u001b[1mModel: \"transformer_model_1\"\u001b[0m\n"
      ]
     },
     "metadata": {},
     "output_type": "display_data"
    },
    {
     "data": {
      "text/html": [
       "<pre style=\"white-space:pre;overflow-x:auto;line-height:normal;font-family:Menlo,'DejaVu Sans Mono',consolas,'Courier New',monospace\">┏━━━━━━━━━━━━━━━━━━━━━━━━━━━━━━━━━┳━━━━━━━━━━━━━━━━━━━━━━━━┳━━━━━━━━━━━━━━━┓\n",
       "┃<span style=\"font-weight: bold\"> Layer (type)                    </span>┃<span style=\"font-weight: bold\"> Output Shape           </span>┃<span style=\"font-weight: bold\">       Param # </span>┃\n",
       "┡━━━━━━━━━━━━━━━━━━━━━━━━━━━━━━━━━╇━━━━━━━━━━━━━━━━━━━━━━━━╇━━━━━━━━━━━━━━━┩\n",
       "│ embedding_1 (<span style=\"color: #0087ff; text-decoration-color: #0087ff\">Embedding</span>)         │ (<span style=\"color: #00d7ff; text-decoration-color: #00d7ff\">None</span>, <span style=\"color: #00af00; text-decoration-color: #00af00\">50</span>, <span style=\"color: #00af00; text-decoration-color: #00af00\">128</span>)        │     <span style=\"color: #00af00; text-decoration-color: #00af00\">1,947,392</span> │\n",
       "├─────────────────────────────────┼────────────────────────┼───────────────┤\n",
       "│ positional_encoding_2           │ ?                      │             <span style=\"color: #00af00; text-decoration-color: #00af00\">0</span> │\n",
       "│ (<span style=\"color: #0087ff; text-decoration-color: #0087ff\">PositionalEncoding</span>)            │                        │               │\n",
       "├─────────────────────────────────┼────────────────────────┼───────────────┤\n",
       "│ transformer_block_5             │ ?                      │       <span style=\"color: #00af00; text-decoration-color: #00af00\">198,272</span> │\n",
       "│ (<span style=\"color: #0087ff; text-decoration-color: #0087ff\">TransformerBlock</span>)              │                        │               │\n",
       "├─────────────────────────────────┼────────────────────────┼───────────────┤\n",
       "│ transformer_block_6             │ ?                      │       <span style=\"color: #00af00; text-decoration-color: #00af00\">198,272</span> │\n",
       "│ (<span style=\"color: #0087ff; text-decoration-color: #0087ff\">TransformerBlock</span>)              │                        │               │\n",
       "├─────────────────────────────────┼────────────────────────┼───────────────┤\n",
       "│ transformer_block_7             │ ?                      │       <span style=\"color: #00af00; text-decoration-color: #00af00\">198,272</span> │\n",
       "│ (<span style=\"color: #0087ff; text-decoration-color: #0087ff\">TransformerBlock</span>)              │                        │               │\n",
       "├─────────────────────────────────┼────────────────────────┼───────────────┤\n",
       "│ transformer_block_8             │ ?                      │       <span style=\"color: #00af00; text-decoration-color: #00af00\">198,272</span> │\n",
       "│ (<span style=\"color: #0087ff; text-decoration-color: #0087ff\">TransformerBlock</span>)              │                        │               │\n",
       "├─────────────────────────────────┼────────────────────────┼───────────────┤\n",
       "│ dropout_19 (<span style=\"color: #0087ff; text-decoration-color: #0087ff\">Dropout</span>)            │ ?                      │             <span style=\"color: #00af00; text-decoration-color: #00af00\">0</span> │\n",
       "├─────────────────────────────────┼────────────────────────┼───────────────┤\n",
       "│ dense_59 (<span style=\"color: #0087ff; text-decoration-color: #0087ff\">Dense</span>)                │ (<span style=\"color: #00d7ff; text-decoration-color: #00d7ff\">None</span>, <span style=\"color: #00af00; text-decoration-color: #00af00\">6</span>)              │           <span style=\"color: #00af00; text-decoration-color: #00af00\">774</span> │\n",
       "└─────────────────────────────────┴────────────────────────┴───────────────┘\n",
       "</pre>\n"
      ],
      "text/plain": [
       "┏━━━━━━━━━━━━━━━━━━━━━━━━━━━━━━━━━┳━━━━━━━━━━━━━━━━━━━━━━━━┳━━━━━━━━━━━━━━━┓\n",
       "┃\u001b[1m \u001b[0m\u001b[1mLayer (type)                   \u001b[0m\u001b[1m \u001b[0m┃\u001b[1m \u001b[0m\u001b[1mOutput Shape          \u001b[0m\u001b[1m \u001b[0m┃\u001b[1m \u001b[0m\u001b[1m      Param #\u001b[0m\u001b[1m \u001b[0m┃\n",
       "┡━━━━━━━━━━━━━━━━━━━━━━━━━━━━━━━━━╇━━━━━━━━━━━━━━━━━━━━━━━━╇━━━━━━━━━━━━━━━┩\n",
       "│ embedding_1 (\u001b[38;5;33mEmbedding\u001b[0m)         │ (\u001b[38;5;45mNone\u001b[0m, \u001b[38;5;34m50\u001b[0m, \u001b[38;5;34m128\u001b[0m)        │     \u001b[38;5;34m1,947,392\u001b[0m │\n",
       "├─────────────────────────────────┼────────────────────────┼───────────────┤\n",
       "│ positional_encoding_2           │ ?                      │             \u001b[38;5;34m0\u001b[0m │\n",
       "│ (\u001b[38;5;33mPositionalEncoding\u001b[0m)            │                        │               │\n",
       "├─────────────────────────────────┼────────────────────────┼───────────────┤\n",
       "│ transformer_block_5             │ ?                      │       \u001b[38;5;34m198,272\u001b[0m │\n",
       "│ (\u001b[38;5;33mTransformerBlock\u001b[0m)              │                        │               │\n",
       "├─────────────────────────────────┼────────────────────────┼───────────────┤\n",
       "│ transformer_block_6             │ ?                      │       \u001b[38;5;34m198,272\u001b[0m │\n",
       "│ (\u001b[38;5;33mTransformerBlock\u001b[0m)              │                        │               │\n",
       "├─────────────────────────────────┼────────────────────────┼───────────────┤\n",
       "│ transformer_block_7             │ ?                      │       \u001b[38;5;34m198,272\u001b[0m │\n",
       "│ (\u001b[38;5;33mTransformerBlock\u001b[0m)              │                        │               │\n",
       "├─────────────────────────────────┼────────────────────────┼───────────────┤\n",
       "│ transformer_block_8             │ ?                      │       \u001b[38;5;34m198,272\u001b[0m │\n",
       "│ (\u001b[38;5;33mTransformerBlock\u001b[0m)              │                        │               │\n",
       "├─────────────────────────────────┼────────────────────────┼───────────────┤\n",
       "│ dropout_19 (\u001b[38;5;33mDropout\u001b[0m)            │ ?                      │             \u001b[38;5;34m0\u001b[0m │\n",
       "├─────────────────────────────────┼────────────────────────┼───────────────┤\n",
       "│ dense_59 (\u001b[38;5;33mDense\u001b[0m)                │ (\u001b[38;5;45mNone\u001b[0m, \u001b[38;5;34m6\u001b[0m)              │           \u001b[38;5;34m774\u001b[0m │\n",
       "└─────────────────────────────────┴────────────────────────┴───────────────┘\n"
      ]
     },
     "metadata": {},
     "output_type": "display_data"
    },
    {
     "data": {
      "text/html": [
       "<pre style=\"white-space:pre;overflow-x:auto;line-height:normal;font-family:Menlo,'DejaVu Sans Mono',consolas,'Courier New',monospace\"><span style=\"font-weight: bold\"> Total params: </span><span style=\"color: #00af00; text-decoration-color: #00af00\">8,223,764</span> (31.37 MB)\n",
       "</pre>\n"
      ],
      "text/plain": [
       "\u001b[1m Total params: \u001b[0m\u001b[38;5;34m8,223,764\u001b[0m (31.37 MB)\n"
      ]
     },
     "metadata": {},
     "output_type": "display_data"
    },
    {
     "data": {
      "text/html": [
       "<pre style=\"white-space:pre;overflow-x:auto;line-height:normal;font-family:Menlo,'DejaVu Sans Mono',consolas,'Courier New',monospace\"><span style=\"font-weight: bold\"> Trainable params: </span><span style=\"color: #00af00; text-decoration-color: #00af00\">2,741,254</span> (10.46 MB)\n",
       "</pre>\n"
      ],
      "text/plain": [
       "\u001b[1m Trainable params: \u001b[0m\u001b[38;5;34m2,741,254\u001b[0m (10.46 MB)\n"
      ]
     },
     "metadata": {},
     "output_type": "display_data"
    },
    {
     "data": {
      "text/html": [
       "<pre style=\"white-space:pre;overflow-x:auto;line-height:normal;font-family:Menlo,'DejaVu Sans Mono',consolas,'Courier New',monospace\"><span style=\"font-weight: bold\"> Non-trainable params: </span><span style=\"color: #00af00; text-decoration-color: #00af00\">0</span> (0.00 B)\n",
       "</pre>\n"
      ],
      "text/plain": [
       "\u001b[1m Non-trainable params: \u001b[0m\u001b[38;5;34m0\u001b[0m (0.00 B)\n"
      ]
     },
     "metadata": {},
     "output_type": "display_data"
    },
    {
     "data": {
      "text/html": [
       "<pre style=\"white-space:pre;overflow-x:auto;line-height:normal;font-family:Menlo,'DejaVu Sans Mono',consolas,'Courier New',monospace\"><span style=\"font-weight: bold\"> Optimizer params: </span><span style=\"color: #00af00; text-decoration-color: #00af00\">5,482,510</span> (20.91 MB)\n",
       "</pre>\n"
      ],
      "text/plain": [
       "\u001b[1m Optimizer params: \u001b[0m\u001b[38;5;34m5,482,510\u001b[0m (20.91 MB)\n"
      ]
     },
     "metadata": {},
     "output_type": "display_data"
    },
    {
     "name": "stdout",
     "output_type": "stream",
     "text": [
      "Model summary: None\n",
      "History: <keras.src.callbacks.history.History object at 0x000002039DC28BD0>\n"
     ]
    }
   ],
   "source": [
    "if __name__ == '__main__':\n",
    "    model, history, test_loss, test_accuracy, emotion_labels, tokenizer = emotion_classification_pipeline(train_df, test_df)\n",
    "    print(f\"Test accuracy: {test_accuracy:.4f}\")\n",
    "    print(f\"Test loss: {test_loss:.4f}\")\n",
    "    print(f\"Emotion labels: {emotion_labels}\")\n",
    "    print(f\"Tokenizer: {tokenizer}\")\n",
    "    print(f\"Model summary: {model.summary()}\")\n",
    "    print(f\"History: {history}\")"
   ]
  }
 ],
 "metadata": {
  "kernelspec": {
   "display_name": "base",
   "language": "python",
   "name": "python3"
  },
  "language_info": {
   "codemirror_mode": {
    "name": "ipython",
    "version": 3
   },
   "file_extension": ".py",
   "mimetype": "text/x-python",
   "name": "python",
   "nbconvert_exporter": "python",
   "pygments_lexer": "ipython3",
   "version": "3.11.7"
  }
 },
 "nbformat": 4,
 "nbformat_minor": 2
}
